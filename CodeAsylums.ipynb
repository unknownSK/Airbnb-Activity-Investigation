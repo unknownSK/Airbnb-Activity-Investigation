{
 "cells": [
  {
   "cell_type": "code",
   "execution_count": 1,
   "metadata": {},
   "outputs": [],
   "source": [
    "import pandas as pd\n",
    "import numpy as np\n",
    "import xgboost as xgb"
   ]
  },
  {
   "cell_type": "code",
   "execution_count": 2,
   "metadata": {},
   "outputs": [
    {
     "name": "stdout",
     "output_type": "stream",
     "text": [
      "<class 'pandas.core.frame.DataFrame'>\n",
      "RangeIndex: 22552 entries, 0 to 22551\n",
      "Data columns (total 96 columns):\n",
      "id                                  22552 non-null int64\n",
      "listing_url                         22552 non-null object\n",
      "scrape_id                           22552 non-null int64\n",
      "last_scraped                        22552 non-null object\n",
      "name                                22493 non-null object\n",
      "summary                             21589 non-null object\n",
      "space                               14020 non-null object\n",
      "description                         22349 non-null object\n",
      "experiences_offered                 22552 non-null object\n",
      "neighborhood_overview               11540 non-null object\n",
      "notes                               7215 non-null object\n",
      "transit                             13036 non-null object\n",
      "access                              10837 non-null object\n",
      "interaction                         10406 non-null object\n",
      "house_rules                         11449 non-null object\n",
      "thumbnail_url                       0 non-null float64\n",
      "medium_url                          0 non-null float64\n",
      "picture_url                         22552 non-null object\n",
      "xl_picture_url                      0 non-null float64\n",
      "host_id                             22552 non-null int64\n",
      "host_url                            22552 non-null object\n",
      "host_name                           22526 non-null object\n",
      "host_since                          22526 non-null object\n",
      "host_location                       22436 non-null object\n",
      "host_about                          11189 non-null object\n",
      "host_response_time                  9658 non-null object\n",
      "host_response_rate                  9657 non-null object\n",
      "host_acceptance_rate                0 non-null float64\n",
      "host_is_superhost                   22526 non-null object\n",
      "host_thumbnail_url                  22526 non-null object\n",
      "host_picture_url                    22526 non-null object\n",
      "host_neighbourhood                  17458 non-null object\n",
      "host_listings_count                 22526 non-null float64\n",
      "host_total_listings_count           22526 non-null float64\n",
      "host_verifications                  22552 non-null object\n",
      "host_has_profile_pic                22526 non-null object\n",
      "host_identity_verified              22526 non-null object\n",
      "street                              22552 non-null object\n",
      "neighbourhood                       21421 non-null object\n",
      "neighbourhood_cleansed              22552 non-null object\n",
      "neighbourhood_group_cleansed        22552 non-null object\n",
      "city                                22547 non-null object\n",
      "state                               22468 non-null object\n",
      "zipcode                             21896 non-null object\n",
      "market                              22489 non-null object\n",
      "smart_location                      22552 non-null object\n",
      "country_code                        22552 non-null object\n",
      "country                             22552 non-null object\n",
      "latitude                            22552 non-null float64\n",
      "longitude                           22552 non-null float64\n",
      "is_location_exact                   22552 non-null object\n",
      "property_type                       22552 non-null object\n",
      "room_type                           22552 non-null object\n",
      "accommodates                        22552 non-null int64\n",
      "bathrooms                           22520 non-null float64\n",
      "bedrooms                            22534 non-null float64\n",
      "beds                                22512 non-null float64\n",
      "bed_type                            22552 non-null object\n",
      "amenities                           22552 non-null object\n",
      "square_feet                         446 non-null float64\n",
      "price                               22552 non-null object\n",
      "weekly_price                        3681 non-null object\n",
      "monthly_price                       2659 non-null object\n",
      "security_deposit                    13191 non-null object\n",
      "cleaning_fee                        15406 non-null object\n",
      "guests_included                     22552 non-null int64\n",
      "extra_people                        22552 non-null object\n",
      "minimum_nights                      22552 non-null int64\n",
      "maximum_nights                      22552 non-null int64\n",
      "calendar_updated                    22552 non-null object\n",
      "has_availability                    22552 non-null object\n",
      "availability_30                     22552 non-null int64\n",
      "availability_60                     22552 non-null int64\n",
      "availability_90                     22552 non-null int64\n",
      "availability_365                    22552 non-null int64\n",
      "calendar_last_scraped               22552 non-null object\n",
      "number_of_reviews                   22552 non-null int64\n",
      "first_review                        18638 non-null object\n",
      "last_review                         18644 non-null object\n",
      "review_scores_rating                18163 non-null float64\n",
      "review_scores_accuracy              18138 non-null float64\n",
      "review_scores_cleanliness           18141 non-null float64\n",
      "review_scores_checkin               18120 non-null float64\n",
      "review_scores_communication         18134 non-null float64\n",
      "review_scores_location              18121 non-null float64\n",
      "review_scores_value                 18117 non-null float64\n",
      "requires_license                    22552 non-null object\n",
      "license                             1638 non-null object\n",
      "jurisdiction_names                  0 non-null float64\n",
      "instant_bookable                    22552 non-null object\n",
      "is_business_travel_ready            22552 non-null object\n",
      "cancellation_policy                 22552 non-null object\n",
      "require_guest_profile_picture       22552 non-null object\n",
      "require_guest_phone_verification    22552 non-null object\n",
      "calculated_host_listings_count      22552 non-null int64\n",
      "reviews_per_month                   18638 non-null float64\n",
      "dtypes: float64(21), int64(13), object(62)\n",
      "memory usage: 16.5+ MB\n"
     ]
    }
   ],
   "source": [
    "dataframe1=pd.read_csv('listings_summary.csv')\n",
    "dataframe1.info()"
   ]
  },
  {
   "cell_type": "code",
   "execution_count": 3,
   "metadata": {
    "collapsed": true
   },
   "outputs": [],
   "source": [
    "cls =   ['id', 'space', 'description', 'host_has_profile_pic', 'neighbourhood_group_cleansed', \n",
    "       'latitude', 'longitude', 'property_type', 'room_type', 'accommodates', 'bathrooms',  \n",
    "       'bedrooms', 'bed_type', 'amenities', 'square_feet', 'price', 'cleaning_fee', \n",
    "       'security_deposit', 'extra_people', 'guests_included', 'minimum_nights',  \n",
    "       'instant_bookable', 'is_business_travel_ready', 'cancellation_policy']\n",
    "\n",
    "dataframe2 = dataframe1[cls].set_index('id')"
   ]
  },
  {
   "cell_type": "code",
   "execution_count": 4,
   "metadata": {},
   "outputs": [
    {
     "name": "stdout",
     "output_type": "stream",
     "text": [
      "<class 'pandas.core.frame.DataFrame'>\n",
      "Int64Index: 22552 entries, 2015 to 29867352\n",
      "Data columns (total 23 columns):\n",
      "space                           14020 non-null object\n",
      "description                     22349 non-null object\n",
      "host_has_profile_pic            22526 non-null object\n",
      "neighbourhood_group_cleansed    22552 non-null object\n",
      "latitude                        22552 non-null float64\n",
      "longitude                       22552 non-null float64\n",
      "property_type                   22552 non-null object\n",
      "room_type                       22552 non-null object\n",
      "accommodates                    22552 non-null int64\n",
      "bathrooms                       22520 non-null float64\n",
      "bedrooms                        22534 non-null float64\n",
      "bed_type                        22552 non-null object\n",
      "amenities                       22552 non-null object\n",
      "square_feet                     446 non-null float64\n",
      "price                           22552 non-null object\n",
      "cleaning_fee                    15406 non-null object\n",
      "security_deposit                13191 non-null object\n",
      "extra_people                    22552 non-null object\n",
      "guests_included                 22552 non-null int64\n",
      "minimum_nights                  22552 non-null int64\n",
      "instant_bookable                22552 non-null object\n",
      "is_business_travel_ready        22552 non-null object\n",
      "cancellation_policy             22552 non-null object\n",
      "dtypes: float64(5), int64(3), object(15)\n",
      "memory usage: 4.1+ MB\n"
     ]
    }
   ],
   "source": [
    "dataframe2.info()"
   ]
  },
  {
   "cell_type": "code",
   "execution_count": 5,
   "metadata": {},
   "outputs": [
    {
     "data": {
      "text/plain": [
       "0"
      ]
     },
     "execution_count": 5,
     "metadata": {},
     "output_type": "execute_result"
    }
   ],
   "source": [
    "dataframe2.price.isnull().sum()"
   ]
  },
  {
   "cell_type": "code",
   "execution_count": 6,
   "metadata": {},
   "outputs": [
    {
     "data": {
      "text/plain": [
       "0"
      ]
     },
     "execution_count": 6,
     "metadata": {},
     "output_type": "execute_result"
    }
   ],
   "source": [
    "dataframe2.security_deposit.isnull().sum()\n",
    "dataframe2.cleaning_fee.fillna('$0.00', inplace=True)\n",
    "dataframe2.cleaning_fee.isnull().sum()\n",
    "dataframe2.security_deposit.fillna('$0.00', inplace=True)\n",
    "dataframe2.security_deposit.isnull().sum()"
   ]
  },
  {
   "cell_type": "code",
   "execution_count": 7,
   "metadata": {},
   "outputs": [],
   "source": [
    "dataframe2.price = dataframe2.price.str.replace('$', '').str.replace(',', '').astype(float)\n",
    "dataframe2.cleaning_fee = dataframe2.cleaning_fee.str.replace('$', '').str.replace(',', '').astype(float)\n",
    "dataframe2.security_deposit = dataframe2.security_deposit.str.replace('$', '').str.replace(',', '').astype(float)\n",
    "dataframe2.extra_people = dataframe2.extra_people.str.replace('$', '').str.replace(',', '').astype(float)"
   ]
  },
  {
   "cell_type": "code",
   "execution_count": 8,
   "metadata": {},
   "outputs": [
    {
     "data": {
      "text/plain": [
       "count    22552.000000\n",
       "mean        67.143668\n",
       "std        220.266210\n",
       "min          0.000000\n",
       "25%         30.000000\n",
       "50%         45.000000\n",
       "75%         70.000000\n",
       "max       9000.000000\n",
       "Name: price, dtype: float64"
      ]
     },
     "execution_count": 8,
     "metadata": {},
     "output_type": "execute_result"
    }
   ],
   "source": [
    "dataframe2['price'].describe()"
   ]
  },
  {
   "cell_type": "code",
   "execution_count": 9,
   "metadata": {
    "collapsed": true
   },
   "outputs": [],
   "source": [
    "dataframe2.drop(dataframe2[ (dataframe2.price > 400) | (dataframe2.price == 0) ].index, axis=0, inplace=True)"
   ]
  },
  {
   "cell_type": "code",
   "execution_count": 10,
   "metadata": {},
   "outputs": [
    {
     "data": {
      "text/plain": [
       "count    22441.000000\n",
       "mean        57.584377\n",
       "std         42.162006\n",
       "min          1.000000\n",
       "25%         30.000000\n",
       "50%         45.000000\n",
       "75%         70.000000\n",
       "max        400.000000\n",
       "Name: price, dtype: float64"
      ]
     },
     "execution_count": 10,
     "metadata": {},
     "output_type": "execute_result"
    }
   ],
   "source": [
    "dataframe2['price'].describe()"
   ]
  },
  {
   "cell_type": "code",
   "execution_count": 11,
   "metadata": {},
   "outputs": [
    {
     "data": {
      "text/plain": [
       "space                            8503\n",
       "description                       202\n",
       "host_has_profile_pic               25\n",
       "neighbourhood_group_cleansed        0\n",
       "latitude                            0\n",
       "longitude                           0\n",
       "property_type                       0\n",
       "room_type                           0\n",
       "accommodates                        0\n",
       "bathrooms                          32\n",
       "bedrooms                           18\n",
       "bed_type                            0\n",
       "amenities                           0\n",
       "square_feet                     21996\n",
       "price                               0\n",
       "cleaning_fee                        0\n",
       "security_deposit                    0\n",
       "extra_people                        0\n",
       "guests_included                     0\n",
       "minimum_nights                      0\n",
       "instant_bookable                    0\n",
       "is_business_travel_ready            0\n",
       "cancellation_policy                 0\n",
       "dtype: int64"
      ]
     },
     "execution_count": 11,
     "metadata": {},
     "output_type": "execute_result"
    }
   ],
   "source": [
    "dataframe2.isnull().sum()"
   ]
  },
  {
   "cell_type": "code",
   "execution_count": 12,
   "metadata": {},
   "outputs": [],
   "source": [
    "dataframe2.drop(['square_feet', 'space'], inplace=True,axis=1)"
   ]
  },
  {
   "cell_type": "code",
   "execution_count": 13,
   "metadata": {},
   "outputs": [
    {
     "name": "stdout",
     "output_type": "stream",
     "text": [
      "<class 'pandas.core.frame.DataFrame'>\n",
      "Int64Index: 22441 entries, 2015 to 29867352\n",
      "Data columns (total 21 columns):\n",
      "description                     22239 non-null object\n",
      "host_has_profile_pic            22416 non-null object\n",
      "neighbourhood_group_cleansed    22441 non-null object\n",
      "latitude                        22441 non-null float64\n",
      "longitude                       22441 non-null float64\n",
      "property_type                   22441 non-null object\n",
      "room_type                       22441 non-null object\n",
      "accommodates                    22441 non-null int64\n",
      "bathrooms                       22409 non-null float64\n",
      "bedrooms                        22423 non-null float64\n",
      "bed_type                        22441 non-null object\n",
      "amenities                       22441 non-null object\n",
      "price                           22441 non-null float64\n",
      "cleaning_fee                    22441 non-null float64\n",
      "security_deposit                22441 non-null float64\n",
      "extra_people                    22441 non-null float64\n",
      "guests_included                 22441 non-null int64\n",
      "minimum_nights                  22441 non-null int64\n",
      "instant_bookable                22441 non-null object\n",
      "is_business_travel_ready        22441 non-null object\n",
      "cancellation_policy             22441 non-null object\n",
      "dtypes: float64(8), int64(3), object(10)\n",
      "memory usage: 3.8+ MB\n"
     ]
    }
   ],
   "source": [
    "dataframe2.info()"
   ]
  },
  {
   "cell_type": "code",
   "execution_count": 14,
   "metadata": {},
   "outputs": [],
   "source": [
    "dataframe2.dropna(subset=['bathrooms', 'bedrooms', ], inplace=True)"
   ]
  },
  {
   "cell_type": "code",
   "execution_count": 15,
   "metadata": {},
   "outputs": [
    {
     "data": {
      "text/plain": [
       "array(['t', 'f'], dtype=object)"
      ]
     },
     "execution_count": 15,
     "metadata": {},
     "output_type": "execute_result"
    }
   ],
   "source": [
    "dataframe2.host_has_profile_pic.fillna(value='f', inplace=True)\n",
    "dataframe2.host_has_profile_pic.unique()"
   ]
  },
  {
   "cell_type": "code",
   "execution_count": 16,
   "metadata": {},
   "outputs": [],
   "source": [
    "from geopy.distance import great_circle"
   ]
  },
  {
   "cell_type": "code",
   "execution_count": 17,
   "metadata": {
    "collapsed": true
   },
   "outputs": [],
   "source": [
    "def distance_to_mid(lat, lon):\n",
    "    berlin_centre = (52.5027778, 13.404166666666667)\n",
    "    accommodation = (lat, lon)\n",
    "    return great_circle(berlin_centre, accommodation).km"
   ]
  },
  {
   "cell_type": "code",
   "execution_count": 18,
   "metadata": {},
   "outputs": [],
   "source": [
    "dataframe2['distance'] = dataframe2.apply(lambda x: distance_to_mid(x.latitude, x.longitude), axis=1)"
   ]
  },
  {
   "cell_type": "code",
   "execution_count": 19,
   "metadata": {},
   "outputs": [
    {
     "data": {
      "text/plain": [
       "count    22391.000000\n",
       "mean         4.547464\n",
       "std          2.661159\n",
       "min          0.198956\n",
       "25%          2.979687\n",
       "50%          4.088758\n",
       "75%          5.551307\n",
       "max         25.012109\n",
       "Name: distance, dtype: float64"
      ]
     },
     "execution_count": 19,
     "metadata": {},
     "output_type": "execute_result"
    }
   ],
   "source": [
    "dataframe2['distance'].describe()"
   ]
  },
  {
   "cell_type": "code",
   "execution_count": 20,
   "metadata": {},
   "outputs": [],
   "source": [
    "dataframe2['size'] = dataframe2['description'].str.extract('(\\d{2,3}\\s?[smSM])', expand=True)\n",
    "dataframe2['size'] = dataframe2['size'].str.replace(\"\\D\", \"\")\n",
    "\n",
    "# change datatype of size into float\n",
    "dataframe2['size'] = dataframe2['size'].astype(float)"
   ]
  },
  {
   "cell_type": "code",
   "execution_count": 21,
   "metadata": {
    "collapsed": true
   },
   "outputs": [],
   "source": [
    "dataframe2.drop(['description'], axis=1, inplace=True)"
   ]
  },
  {
   "cell_type": "code",
   "execution_count": 22,
   "metadata": {},
   "outputs": [],
   "source": [
    "dataframe3 = dataframe2[['accommodates', 'bathrooms', 'bedrooms',  'price', 'cleaning_fee', \n",
    "                 'security_deposit', 'extra_people', 'guests_included', 'distance', 'size']]"
   ]
  },
  {
   "cell_type": "code",
   "execution_count": 23,
   "metadata": {
    "collapsed": true
   },
   "outputs": [],
   "source": [
    "train_data = dataframe3[dataframe3['size'].notnull()]\n",
    "test_data  = dataframe3[dataframe3['size'].isnull()]\n",
    "\n",
    "# define X\n",
    "X_train = train_data.drop('size', axis=1)\n",
    "X_test  = test_data.drop('size', axis=1)\n",
    "\n",
    "# define y\n",
    "y_train = train_data['size']\n"
   ]
  },
  {
   "cell_type": "code",
   "execution_count": 24,
   "metadata": {},
   "outputs": [
    {
     "data": {
      "text/plain": [
       "LinearRegression(copy_X=True, fit_intercept=True, n_jobs=1, normalize=False)"
      ]
     },
     "execution_count": 24,
     "metadata": {},
     "output_type": "execute_result"
    }
   ],
   "source": [
    "from sklearn.linear_model import LinearRegression\n",
    "\n",
    "# instantiate\n",
    "linreg = LinearRegression()\n",
    "\n",
    "# fit model to training data\n",
    "\n",
    "linreg.fit(X_train, y_train)"
   ]
  },
  {
   "cell_type": "code",
   "execution_count": 25,
   "metadata": {
    "collapsed": true
   },
   "outputs": [],
   "source": [
    "y_test = linreg.predict(X_test)"
   ]
  },
  {
   "cell_type": "code",
   "execution_count": 26,
   "metadata": {},
   "outputs": [
    {
     "name": "stdout",
     "output_type": "stream",
     "text": [
      "(11721, 1)\n"
     ]
    }
   ],
   "source": [
    "y_test = pd.DataFrame(y_test)\n",
    "y_test.columns = ['size']\n",
    "print(y_test.shape)"
   ]
  },
  {
   "cell_type": "code",
   "execution_count": 27,
   "metadata": {},
   "outputs": [],
   "source": [
    "prelim_index = pd.DataFrame(X_test.index)\n",
    "prelim_index.columns = ['prelim']\n",
    "\n",
    "# ... and concat this dataframe with y_test\n",
    "y_test = pd.concat([y_test, prelim_index], axis=1)\n",
    "y_test.set_index(['prelim'], inplace=True)"
   ]
  },
  {
   "cell_type": "code",
   "execution_count": 28,
   "metadata": {
    "collapsed": true
   },
   "outputs": [],
   "source": [
    "new_test_data = pd.concat([X_test, y_test], axis=1)"
   ]
  },
  {
   "cell_type": "code",
   "execution_count": 29,
   "metadata": {},
   "outputs": [
    {
     "data": {
      "text/plain": [
       "0"
      ]
     },
     "execution_count": 29,
     "metadata": {},
     "output_type": "execute_result"
    }
   ],
   "source": [
    "new_test_data['size'].isnull().sum()"
   ]
  },
  {
   "cell_type": "code",
   "execution_count": 30,
   "metadata": {},
   "outputs": [
    {
     "name": "stdout",
     "output_type": "stream",
     "text": [
      "(22391, 10)\n"
     ]
    },
    {
     "data": {
      "text/html": [
       "<div>\n",
       "<style>\n",
       "    .dataframe thead tr:only-child th {\n",
       "        text-align: right;\n",
       "    }\n",
       "\n",
       "    .dataframe thead th {\n",
       "        text-align: left;\n",
       "    }\n",
       "\n",
       "    .dataframe tbody tr th {\n",
       "        vertical-align: top;\n",
       "    }\n",
       "</style>\n",
       "<table border=\"1\" class=\"dataframe\">\n",
       "  <thead>\n",
       "    <tr style=\"text-align: right;\">\n",
       "      <th></th>\n",
       "      <th>accommodates</th>\n",
       "      <th>bathrooms</th>\n",
       "      <th>bedrooms</th>\n",
       "      <th>price</th>\n",
       "      <th>cleaning_fee</th>\n",
       "      <th>security_deposit</th>\n",
       "      <th>extra_people</th>\n",
       "      <th>guests_included</th>\n",
       "      <th>distance</th>\n",
       "      <th>size</th>\n",
       "    </tr>\n",
       "  </thead>\n",
       "  <tbody>\n",
       "    <tr>\n",
       "      <th>14325</th>\n",
       "      <td>2</td>\n",
       "      <td>1.0</td>\n",
       "      <td>0.0</td>\n",
       "      <td>70.0</td>\n",
       "      <td>0.0</td>\n",
       "      <td>500.0</td>\n",
       "      <td>0.0</td>\n",
       "      <td>1</td>\n",
       "      <td>5.012297</td>\n",
       "      <td>56.697281</td>\n",
       "    </tr>\n",
       "    <tr>\n",
       "      <th>20858</th>\n",
       "      <td>4</td>\n",
       "      <td>1.0</td>\n",
       "      <td>2.0</td>\n",
       "      <td>129.0</td>\n",
       "      <td>49.0</td>\n",
       "      <td>500.0</td>\n",
       "      <td>24.0</td>\n",
       "      <td>2</td>\n",
       "      <td>3.807207</td>\n",
       "      <td>97.756906</td>\n",
       "    </tr>\n",
       "    <tr>\n",
       "      <th>21869</th>\n",
       "      <td>4</td>\n",
       "      <td>1.0</td>\n",
       "      <td>1.0</td>\n",
       "      <td>70.0</td>\n",
       "      <td>40.0</td>\n",
       "      <td>500.0</td>\n",
       "      <td>18.0</td>\n",
       "      <td>2</td>\n",
       "      <td>2.061292</td>\n",
       "      <td>75.831592</td>\n",
       "    </tr>\n",
       "    <tr>\n",
       "      <th>22415</th>\n",
       "      <td>4</td>\n",
       "      <td>1.0</td>\n",
       "      <td>2.0</td>\n",
       "      <td>98.0</td>\n",
       "      <td>50.0</td>\n",
       "      <td>300.0</td>\n",
       "      <td>25.0</td>\n",
       "      <td>2</td>\n",
       "      <td>1.868255</td>\n",
       "      <td>88.778838</td>\n",
       "    </tr>\n",
       "    <tr>\n",
       "      <th>28156</th>\n",
       "      <td>2</td>\n",
       "      <td>1.0</td>\n",
       "      <td>0.0</td>\n",
       "      <td>70.0</td>\n",
       "      <td>0.0</td>\n",
       "      <td>1660.0</td>\n",
       "      <td>0.0</td>\n",
       "      <td>1</td>\n",
       "      <td>4.886509</td>\n",
       "      <td>60.680846</td>\n",
       "    </tr>\n",
       "  </tbody>\n",
       "</table>\n",
       "</div>"
      ],
      "text/plain": [
       "       accommodates  bathrooms  bedrooms  price  cleaning_fee  \\\n",
       "14325             2        1.0       0.0   70.0           0.0   \n",
       "20858             4        1.0       2.0  129.0          49.0   \n",
       "21869             4        1.0       1.0   70.0          40.0   \n",
       "22415             4        1.0       2.0   98.0          50.0   \n",
       "28156             2        1.0       0.0   70.0           0.0   \n",
       "\n",
       "       security_deposit  extra_people  guests_included  distance       size  \n",
       "14325             500.0           0.0                1  5.012297  56.697281  \n",
       "20858             500.0          24.0                2  3.807207  97.756906  \n",
       "21869             500.0          18.0                2  2.061292  75.831592  \n",
       "22415             300.0          25.0                2  1.868255  88.778838  \n",
       "28156            1660.0           0.0                1  4.886509  60.680846  "
      ]
     },
     "execution_count": 30,
     "metadata": {},
     "output_type": "execute_result"
    }
   ],
   "source": [
    "sub_df_new = pd.concat([new_test_data, train_data], axis=0)\n",
    "\n",
    "print(sub_df_new.shape)\n",
    "sub_df_new.head()"
   ]
  },
  {
   "cell_type": "code",
   "execution_count": 31,
   "metadata": {
    "collapsed": true
   },
   "outputs": [],
   "source": [
    "dataframe2.drop(['accommodates', 'bathrooms', 'bedrooms', 'price', 'cleaning_fee', \n",
    "             'security_deposit', 'extra_people', 'guests_included', 'distance', 'size'], \n",
    "            axis=1, inplace=True)"
   ]
  },
  {
   "cell_type": "code",
   "execution_count": 32,
   "metadata": {},
   "outputs": [
    {
     "name": "stdout",
     "output_type": "stream",
     "text": [
      "(22391, 22)\n"
     ]
    },
    {
     "data": {
      "text/html": [
       "<div>\n",
       "<style>\n",
       "    .dataframe thead tr:only-child th {\n",
       "        text-align: right;\n",
       "    }\n",
       "\n",
       "    .dataframe thead th {\n",
       "        text-align: left;\n",
       "    }\n",
       "\n",
       "    .dataframe tbody tr th {\n",
       "        vertical-align: top;\n",
       "    }\n",
       "</style>\n",
       "<table border=\"1\" class=\"dataframe\">\n",
       "  <thead>\n",
       "    <tr style=\"text-align: right;\">\n",
       "      <th></th>\n",
       "      <th>accommodates</th>\n",
       "      <th>bathrooms</th>\n",
       "      <th>bedrooms</th>\n",
       "      <th>price</th>\n",
       "      <th>cleaning_fee</th>\n",
       "      <th>security_deposit</th>\n",
       "      <th>extra_people</th>\n",
       "      <th>guests_included</th>\n",
       "      <th>distance</th>\n",
       "      <th>size</th>\n",
       "      <th>...</th>\n",
       "      <th>latitude</th>\n",
       "      <th>longitude</th>\n",
       "      <th>property_type</th>\n",
       "      <th>room_type</th>\n",
       "      <th>bed_type</th>\n",
       "      <th>amenities</th>\n",
       "      <th>minimum_nights</th>\n",
       "      <th>instant_bookable</th>\n",
       "      <th>is_business_travel_ready</th>\n",
       "      <th>cancellation_policy</th>\n",
       "    </tr>\n",
       "  </thead>\n",
       "  <tbody>\n",
       "    <tr>\n",
       "      <th>2015</th>\n",
       "      <td>3</td>\n",
       "      <td>1.0</td>\n",
       "      <td>1.0</td>\n",
       "      <td>60.0</td>\n",
       "      <td>30.0</td>\n",
       "      <td>200.0</td>\n",
       "      <td>28.0</td>\n",
       "      <td>1</td>\n",
       "      <td>3.533182</td>\n",
       "      <td>75.0</td>\n",
       "      <td>...</td>\n",
       "      <td>52.534537</td>\n",
       "      <td>13.402557</td>\n",
       "      <td>Guesthouse</td>\n",
       "      <td>Entire home/apt</td>\n",
       "      <td>Real Bed</td>\n",
       "      <td>{TV,\"Cable TV\",Wifi,Kitchen,Gym,Heating,\"Famil...</td>\n",
       "      <td>4</td>\n",
       "      <td>f</td>\n",
       "      <td>f</td>\n",
       "      <td>strict_14_with_grace_period</td>\n",
       "    </tr>\n",
       "    <tr>\n",
       "      <th>2695</th>\n",
       "      <td>2</td>\n",
       "      <td>1.0</td>\n",
       "      <td>1.0</td>\n",
       "      <td>17.0</td>\n",
       "      <td>0.0</td>\n",
       "      <td>0.0</td>\n",
       "      <td>0.0</td>\n",
       "      <td>1</td>\n",
       "      <td>5.085573</td>\n",
       "      <td>25.0</td>\n",
       "      <td>...</td>\n",
       "      <td>52.548513</td>\n",
       "      <td>13.404553</td>\n",
       "      <td>Apartment</td>\n",
       "      <td>Private room</td>\n",
       "      <td>Real Bed</td>\n",
       "      <td>{Wifi,Kitchen,Elevator,Heating,Washer,Essentia...</td>\n",
       "      <td>2</td>\n",
       "      <td>f</td>\n",
       "      <td>f</td>\n",
       "      <td>flexible</td>\n",
       "    </tr>\n",
       "  </tbody>\n",
       "</table>\n",
       "<p>2 rows × 22 columns</p>\n",
       "</div>"
      ],
      "text/plain": [
       "      accommodates  bathrooms  bedrooms  price  cleaning_fee  \\\n",
       "2015             3        1.0       1.0   60.0          30.0   \n",
       "2695             2        1.0       1.0   17.0           0.0   \n",
       "\n",
       "      security_deposit  extra_people  guests_included  distance  size  \\\n",
       "2015             200.0          28.0                1  3.533182  75.0   \n",
       "2695               0.0           0.0                1  5.085573  25.0   \n",
       "\n",
       "                 ...                latitude  longitude  property_type  \\\n",
       "2015             ...               52.534537  13.402557     Guesthouse   \n",
       "2695             ...               52.548513  13.404553      Apartment   \n",
       "\n",
       "            room_type  bed_type  \\\n",
       "2015  Entire home/apt  Real Bed   \n",
       "2695     Private room  Real Bed   \n",
       "\n",
       "                                              amenities minimum_nights  \\\n",
       "2015  {TV,\"Cable TV\",Wifi,Kitchen,Gym,Heating,\"Famil...              4   \n",
       "2695  {Wifi,Kitchen,Elevator,Heating,Washer,Essentia...              2   \n",
       "\n",
       "     instant_bookable  is_business_travel_ready          cancellation_policy  \n",
       "2015                f                         f  strict_14_with_grace_period  \n",
       "2695                f                         f                     flexible  \n",
       "\n",
       "[2 rows x 22 columns]"
      ]
     },
     "execution_count": 32,
     "metadata": {},
     "output_type": "execute_result"
    }
   ],
   "source": [
    "df = pd.concat([sub_df_new, dataframe2], axis=1)\n",
    "\n",
    "print(df.shape)\n",
    "df.head(2)"
   ]
  },
  {
   "cell_type": "code",
   "execution_count": 33,
   "metadata": {},
   "outputs": [
    {
     "data": {
      "text/plain": [
       "0"
      ]
     },
     "execution_count": 33,
     "metadata": {},
     "output_type": "execute_result"
    }
   ],
   "source": [
    "df['size'].isnull().sum()"
   ]
  },
  {
   "cell_type": "code",
   "execution_count": 34,
   "metadata": {
    "collapsed": true
   },
   "outputs": [],
   "source": [
    "df.drop(df[ (df['size'] == 0.) | (df['size'] > 300.) ].index, axis=0, inplace=True)"
   ]
  },
  {
   "cell_type": "code",
   "execution_count": 35,
   "metadata": {
    "collapsed": true
   },
   "outputs": [],
   "source": [
    "from collections import Counter"
   ]
  },
  {
   "cell_type": "code",
   "execution_count": 36,
   "metadata": {},
   "outputs": [
    {
     "data": {
      "text/plain": [
       "[('Wifi', 20952),\n",
       " ('Kitchen', 20809),\n",
       " ('Heating', 20657),\n",
       " ('Essentials', 19811),\n",
       " ('Washer', 18071),\n",
       " ('Hair dryer', 14474),\n",
       " ('Laptop friendly workspace', 14095),\n",
       " ('Hangers', 13514),\n",
       " ('Iron', 10876),\n",
       " ('Shampoo', 10339),\n",
       " ('TV', 9778),\n",
       " ('Hot water', 9421),\n",
       " ('Family/kid friendly', 7925),\n",
       " ('Internet', 7699),\n",
       " ('Host greets you', 6469),\n",
       " ('Smoke detector', 6245),\n",
       " ('Buzzer/wireless intercom', 5963),\n",
       " ('Lock on bedroom door', 5138),\n",
       " ('Free street parking', 5037),\n",
       " ('Refrigerator', 5033),\n",
       " ('Dishes and silverware', 4909),\n",
       " ('Elevator', 4703),\n",
       " ('Cooking basics', 4673),\n",
       " ('Bed linens', 4656),\n",
       " ('Stove', 4655),\n",
       " ('Smoking allowed', 4509),\n",
       " ('Oven', 4161),\n",
       " ('translation missing: en.hosting_amenity_50', 4095),\n",
       " ('First aid kit', 3866),\n",
       " ('Cable TV', 3577)]"
      ]
     },
     "execution_count": 36,
     "metadata": {},
     "output_type": "execute_result"
    }
   ],
   "source": [
    "results = Counter()\n",
    "df['amenities'].str.strip('{}')\\\n",
    "               .str.replace('\"', '')\\\n",
    "               .str.lstrip('\\\"')\\\n",
    "               .str.rstrip('\\\"')\\\n",
    "               .str.split(',')\\\n",
    "               .apply(results.update)\n",
    "\n",
    "results.most_common(30)\n"
   ]
  },
  {
   "cell_type": "code",
   "execution_count": 37,
   "metadata": {
    "collapsed": true
   },
   "outputs": [],
   "source": [
    "sub_df = pd.DataFrame(results.most_common(30), columns=['amenity', 'count'])"
   ]
  },
  {
   "cell_type": "code",
   "execution_count": 38,
   "metadata": {
    "collapsed": true
   },
   "outputs": [],
   "source": [
    "df['Laptop_friendly_workspace'] = df['amenities'].str.contains('Laptop friendly workspace')\n",
    "df['TV'] = df['amenities'].str.contains('TV')\n",
    "df['Family_kid_friendly'] = df['amenities'].str.contains('Family/kid friendly')\n",
    "df['Host_greets_you'] = df['amenities'].str.contains('Host greets you')\n",
    "df['Smoking_allowed'] = df['amenities'].str.contains('Smoking allowed')"
   ]
  },
  {
   "cell_type": "code",
   "execution_count": 39,
   "metadata": {},
   "outputs": [
    {
     "name": "stdout",
     "output_type": "stream",
     "text": [
      "<class 'pandas.core.frame.DataFrame'>\n",
      "Int64Index: 21958 entries, 2015 to 29867352\n",
      "Data columns (total 27 columns):\n",
      "accommodates                    21958 non-null int64\n",
      "bathrooms                       21958 non-null float64\n",
      "bedrooms                        21958 non-null float64\n",
      "price                           21958 non-null float64\n",
      "cleaning_fee                    21958 non-null float64\n",
      "security_deposit                21958 non-null float64\n",
      "extra_people                    21958 non-null float64\n",
      "guests_included                 21958 non-null int64\n",
      "distance                        21958 non-null float64\n",
      "size                            21958 non-null float64\n",
      "host_has_profile_pic            21958 non-null object\n",
      "neighbourhood_group_cleansed    21958 non-null object\n",
      "latitude                        21958 non-null float64\n",
      "longitude                       21958 non-null float64\n",
      "property_type                   21958 non-null object\n",
      "room_type                       21958 non-null object\n",
      "bed_type                        21958 non-null object\n",
      "amenities                       21958 non-null object\n",
      "minimum_nights                  21958 non-null int64\n",
      "instant_bookable                21958 non-null object\n",
      "is_business_travel_ready        21958 non-null object\n",
      "cancellation_policy             21958 non-null object\n",
      "Laptop_friendly_workspace       21958 non-null bool\n",
      "TV                              21958 non-null bool\n",
      "Family_kid_friendly             21958 non-null bool\n",
      "Host_greets_you                 21958 non-null bool\n",
      "Smoking_allowed                 21958 non-null bool\n",
      "dtypes: bool(5), float64(10), int64(3), object(9)\n",
      "memory usage: 4.0+ MB\n"
     ]
    }
   ],
   "source": [
    "df.info()"
   ]
  },
  {
   "cell_type": "code",
   "execution_count": 40,
   "metadata": {
    "collapsed": true
   },
   "outputs": [],
   "source": [
    "df.drop(['amenities'], axis=1, inplace=True)"
   ]
  },
  {
   "cell_type": "code",
   "execution_count": 41,
   "metadata": {
    "collapsed": true
   },
   "outputs": [],
   "source": [
    "df_grouped = pd.DataFrame(df.groupby(['neighbourhood_group_cleansed'])['price'].agg(np.median))\n",
    "df_grouped.reset_index(inplace=True)"
   ]
  },
  {
   "cell_type": "code",
   "execution_count": 42,
   "metadata": {
    "collapsed": true
   },
   "outputs": [],
   "source": [
    "df_grouped = pd.DataFrame(df.groupby(['cancellation_policy'])['price'].agg(np.median))\n",
    "df_grouped.reset_index(inplace=True)"
   ]
  },
  {
   "cell_type": "code",
   "execution_count": 43,
   "metadata": {
    "collapsed": true
   },
   "outputs": [],
   "source": [
    "df.drop(['latitude', 'longitude', 'neighbourhood_group_cleansed', 'property_type'], axis=1, inplace=True)"
   ]
  },
  {
   "cell_type": "code",
   "execution_count": 44,
   "metadata": {
    "collapsed": true
   },
   "outputs": [],
   "source": [
    "for col in ['host_has_profile_pic', 'room_type', 'bed_type', 'instant_bookable', \n",
    "            'is_business_travel_ready', 'cancellation_policy']:\n",
    "    df[col] = df[col].astype('category')"
   ]
  },
  {
   "cell_type": "code",
   "execution_count": 45,
   "metadata": {
    "collapsed": true
   },
   "outputs": [],
   "source": [
    "target = df[[\"price\"]]\n",
    "\n",
    "# define our features \n",
    "features = df.drop([\"price\"], axis=1)"
   ]
  },
  {
   "cell_type": "code",
   "execution_count": 46,
   "metadata": {
    "collapsed": true
   },
   "outputs": [],
   "source": [
    "num_feats = features.select_dtypes(include=['float64', 'int64', 'bool']).copy()\n",
    "\n",
    "# one-hot encoding of categorical features\n",
    "cat_feats = features.select_dtypes(include=['category']).copy()\n",
    "cat_feats = pd.get_dummies(cat_feats)"
   ]
  },
  {
   "cell_type": "code",
   "execution_count": 47,
   "metadata": {},
   "outputs": [
    {
     "name": "stdout",
     "output_type": "stream",
     "text": [
      "(21958, 33)\n"
     ]
    },
    {
     "data": {
      "text/html": [
       "<div>\n",
       "<style>\n",
       "    .dataframe thead tr:only-child th {\n",
       "        text-align: right;\n",
       "    }\n",
       "\n",
       "    .dataframe thead th {\n",
       "        text-align: left;\n",
       "    }\n",
       "\n",
       "    .dataframe tbody tr th {\n",
       "        vertical-align: top;\n",
       "    }\n",
       "</style>\n",
       "<table border=\"1\" class=\"dataframe\">\n",
       "  <thead>\n",
       "    <tr style=\"text-align: right;\">\n",
       "      <th></th>\n",
       "      <th>accommodates</th>\n",
       "      <th>bathrooms</th>\n",
       "      <th>bedrooms</th>\n",
       "      <th>cleaning_fee</th>\n",
       "      <th>security_deposit</th>\n",
       "      <th>extra_people</th>\n",
       "      <th>guests_included</th>\n",
       "      <th>distance</th>\n",
       "      <th>size</th>\n",
       "      <th>minimum_nights</th>\n",
       "      <th>...</th>\n",
       "      <th>bed_type_Pull-out Sofa</th>\n",
       "      <th>bed_type_Real Bed</th>\n",
       "      <th>instant_bookable_f</th>\n",
       "      <th>instant_bookable_t</th>\n",
       "      <th>is_business_travel_ready_f</th>\n",
       "      <th>cancellation_policy_flexible</th>\n",
       "      <th>cancellation_policy_moderate</th>\n",
       "      <th>cancellation_policy_strict_14_with_grace_period</th>\n",
       "      <th>cancellation_policy_super_strict_30</th>\n",
       "      <th>cancellation_policy_super_strict_60</th>\n",
       "    </tr>\n",
       "  </thead>\n",
       "  <tbody>\n",
       "    <tr>\n",
       "      <th>2015</th>\n",
       "      <td>3</td>\n",
       "      <td>1.0</td>\n",
       "      <td>1.0</td>\n",
       "      <td>30.0</td>\n",
       "      <td>200.0</td>\n",
       "      <td>28.0</td>\n",
       "      <td>1</td>\n",
       "      <td>3.533182</td>\n",
       "      <td>75.0</td>\n",
       "      <td>4</td>\n",
       "      <td>...</td>\n",
       "      <td>0</td>\n",
       "      <td>1</td>\n",
       "      <td>1</td>\n",
       "      <td>0</td>\n",
       "      <td>1</td>\n",
       "      <td>0</td>\n",
       "      <td>0</td>\n",
       "      <td>1</td>\n",
       "      <td>0</td>\n",
       "      <td>0</td>\n",
       "    </tr>\n",
       "    <tr>\n",
       "      <th>2695</th>\n",
       "      <td>2</td>\n",
       "      <td>1.0</td>\n",
       "      <td>1.0</td>\n",
       "      <td>0.0</td>\n",
       "      <td>0.0</td>\n",
       "      <td>0.0</td>\n",
       "      <td>1</td>\n",
       "      <td>5.085573</td>\n",
       "      <td>25.0</td>\n",
       "      <td>2</td>\n",
       "      <td>...</td>\n",
       "      <td>0</td>\n",
       "      <td>1</td>\n",
       "      <td>1</td>\n",
       "      <td>0</td>\n",
       "      <td>1</td>\n",
       "      <td>1</td>\n",
       "      <td>0</td>\n",
       "      <td>0</td>\n",
       "      <td>0</td>\n",
       "      <td>0</td>\n",
       "    </tr>\n",
       "  </tbody>\n",
       "</table>\n",
       "<p>2 rows × 33 columns</p>\n",
       "</div>"
      ],
      "text/plain": [
       "      accommodates  bathrooms  bedrooms  cleaning_fee  security_deposit  \\\n",
       "2015             3        1.0       1.0          30.0             200.0   \n",
       "2695             2        1.0       1.0           0.0               0.0   \n",
       "\n",
       "      extra_people  guests_included  distance  size  minimum_nights  \\\n",
       "2015          28.0                1  3.533182  75.0               4   \n",
       "2695           0.0                1  5.085573  25.0               2   \n",
       "\n",
       "                     ...                   bed_type_Pull-out Sofa  \\\n",
       "2015                 ...                                        0   \n",
       "2695                 ...                                        0   \n",
       "\n",
       "      bed_type_Real Bed  instant_bookable_f  instant_bookable_t  \\\n",
       "2015                  1                   1                   0   \n",
       "2695                  1                   1                   0   \n",
       "\n",
       "      is_business_travel_ready_f  cancellation_policy_flexible  \\\n",
       "2015                           1                             0   \n",
       "2695                           1                             1   \n",
       "\n",
       "      cancellation_policy_moderate  \\\n",
       "2015                             0   \n",
       "2695                             0   \n",
       "\n",
       "      cancellation_policy_strict_14_with_grace_period  \\\n",
       "2015                                                1   \n",
       "2695                                                0   \n",
       "\n",
       "      cancellation_policy_super_strict_30  cancellation_policy_super_strict_60  \n",
       "2015                                    0                                    0  \n",
       "2695                                    0                                    0  \n",
       "\n",
       "[2 rows x 33 columns]"
      ]
     },
     "execution_count": 47,
     "metadata": {},
     "output_type": "execute_result"
    }
   ],
   "source": [
    "features_recoded = pd.concat([num_feats, cat_feats], axis=1)\n",
    "print(features_recoded.shape)\n",
    "features_recoded.head(2)"
   ]
  },
  {
   "cell_type": "code",
   "execution_count": 48,
   "metadata": {
    "collapsed": true
   },
   "outputs": [],
   "source": [
    "# import train_test_split function\n",
    "from sklearn.model_selection import train_test_split\n",
    "# import metrics\n",
    "from sklearn.metrics import mean_squared_error, r2_score\n",
    "\n",
    "# split our data\n",
    "X_train, X_test, y_train, y_test = train_test_split(features_recoded, target, test_size=0.2)"
   ]
  },
  {
   "cell_type": "code",
   "execution_count": 49,
   "metadata": {
    "collapsed": true
   },
   "outputs": [],
   "source": [
    "from sklearn.preprocessing import StandardScaler\n",
    "sc = StandardScaler()\n",
    "X_train = sc.fit_transform(X_train)\n",
    "X_test  = sc.transform(X_test)"
   ]
  },
  {
   "cell_type": "code",
   "execution_count": 50,
   "metadata": {
    "collapsed": true
   },
   "outputs": [],
   "source": [
    "# create a baseline\n",
    "booster = xgb.XGBRegressor()"
   ]
  },
  {
   "cell_type": "code",
   "execution_count": 115,
   "metadata": {},
   "outputs": [
    {
     "name": "stdout",
     "output_type": "stream",
     "text": [
      "{'colsample_bytree': 0.6, 'gamma': 0.22, 'learning_rate': 0.05, 'max_depth': 9, 'n_estimators': 250}\n"
     ]
    }
   ],
   "source": [
    "from sklearn.model_selection import GridSearchCV\n",
    "param_grid = {'n_estimators': [150, 200, 250],\n",
    "              'learning_rate': [0.05, 0.1, 0.15], \n",
    "              'max_depth': [ 6, 7, 8, 9],\n",
    "              'colsample_bytree': [ 0.6, 0.7, 0.8],\n",
    "              'gamma': [ 0.1, 0.2,0.22]}\n",
    "\n",
    "# instantiate the tuned random forest\n",
    "booster_grid_search = GridSearchCV(booster, param_grid, cv=3, n_jobs=-1)\n",
    "\n",
    "# train the tuned random forest\n",
    "booster_grid_search.fit(X_train, y_train)\n",
    "\n",
    "# print best estimator parameters found during the grid search\n",
    "print(booster_grid_search.best_params_)"
   ]
  },
  {
   "cell_type": "code",
   "execution_count": 93,
   "metadata": {
    "collapsed": true
   },
   "outputs": [],
   "source": [
    "booster = xgb.XGBRegressor(colsample_bytree=0.6, gamma=0.24, learning_rate=0.05, \n",
    "                           max_depth=8, n_estimators=550, random_state=4)\n",
    "\n",
    "# train\n",
    "booster.fit(X_train, y_train)\n",
    "\n",
    "# predict\n",
    "y_pred_train = booster.predict(X_train)\n",
    "y_pred_test = booster.predict(X_test)"
   ]
  },
  {
   "cell_type": "code",
   "execution_count": 94,
   "metadata": {},
   "outputs": [
    {
     "name": "stdout",
     "output_type": "stream",
     "text": [
      "RMSE: 22.0433\n"
     ]
    }
   ],
   "source": [
    "RMSE = np.sqrt(mean_squared_error(y_test, y_pred_test))\n",
    "print(f\"RMSE: {round(RMSE, 4)}\")"
   ]
  },
  {
   "cell_type": "code",
   "execution_count": 95,
   "metadata": {},
   "outputs": [
    {
     "name": "stdout",
     "output_type": "stream",
     "text": [
      "r2: 0.7199\n"
     ]
    }
   ],
   "source": [
    "r2 = r2_score(y_test, y_pred_test)\n",
    "r2\n",
    "print(f\"r2: {round(r2, 4)}\")"
   ]
  }
 ],
 "metadata": {
  "kernelspec": {
   "display_name": "Python 3",
   "language": "python",
   "name": "python3"
  },
  "language_info": {
   "codemirror_mode": {
    "name": "ipython",
    "version": 3
   },
   "file_extension": ".py",
   "mimetype": "text/x-python",
   "name": "python",
   "nbconvert_exporter": "python",
   "pygments_lexer": "ipython3",
   "version": "3.6.3"
  }
 },
 "nbformat": 4,
 "nbformat_minor": 2
}
